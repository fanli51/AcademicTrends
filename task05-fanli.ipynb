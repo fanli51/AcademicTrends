{
 "cells": [
  {
   "cell_type": "markdown",
   "metadata": {
    "papermill": {
     "duration": 0.013559,
     "end_time": "2021-01-24T08:29:29.984363",
     "exception": false,
     "start_time": "2021-01-24T08:29:29.970804",
     "status": "completed"
    },
    "tags": []
   },
   "source": [
    "## 任务说明\n",
    "\n",
    "- 学习主题：作者关联（数据建模任务），对论文作者关系进行建模，统计最常出现的作者关系；\n",
    "- 学习内容：构建作者关系图，挖掘作者关系\n",
    "- 学习成果：论文作者知识图谱、图关系挖掘"
   ]
  },
  {
   "cell_type": "markdown",
   "metadata": {
    "papermill": {
     "duration": 0.010352,
     "end_time": "2021-01-24T08:29:30.005894",
     "exception": false,
     "start_time": "2021-01-24T08:29:29.995542",
     "status": "completed"
    },
    "tags": []
   },
   "source": [
    "## 数据处理步骤\n",
    "\n",
    "将作者列表进行处理，并完成统计。具体步骤如下：\n",
    "\n",
    "- 将论文第一作者与其他作者（论文非第一作者）构建图；\n",
    "- 使用图算法统计图中作者与其他作者的联系；"
   ]
  },
  {
   "cell_type": "markdown",
   "metadata": {
    "papermill": {
     "duration": 0.010307,
     "end_time": "2021-01-24T08:29:30.026912",
     "exception": false,
     "start_time": "2021-01-24T08:29:30.016605",
     "status": "completed"
    },
    "tags": []
   },
   "source": [
    "## 社交网络分析\n",
    "\n",
    "图是复杂网络研究中的一个重要概念。Graph是用**点**和**线**来刻画离散事物集合中的每对事物间以某种方式相联系的数学模型。Graph在现实世界中随处可见，如交通运输图、旅游图、流程图等。利用图可以描述现实生活中的许多事物，如用点可以表示交叉口，点之间的连线表示路径，这样就可以轻而易举的描绘出一个交通运输网络。"
   ]
  },
  {
   "cell_type": "markdown",
   "metadata": {
    "papermill": {
     "duration": 0.010506,
     "end_time": "2021-01-24T08:29:30.048430",
     "exception": false,
     "start_time": "2021-01-24T08:29:30.037924",
     "status": "completed"
    },
    "tags": []
   },
   "source": [
    "### 图类型\n",
    "\n",
    "- 无向图，忽略了两节点间边的方向。\n",
    "\n",
    "- 指有向图，考虑了边的有向性。\n",
    "\n",
    "- 多重无向图，即两个结点之间的边数多于一条，又允许顶点通过同一条边和自己关联。"
   ]
  },
  {
   "cell_type": "markdown",
   "metadata": {
    "papermill": {
     "duration": 0.010331,
     "end_time": "2021-01-24T08:29:30.069530",
     "exception": false,
     "start_time": "2021-01-24T08:29:30.059199",
     "status": "completed"
    },
    "tags": []
   },
   "source": [
    "### 图统计指标\n",
    "\n",
    "- 度：是指和该节点相关联的边的条数，又称关联度。对于有向图，节点的入度 是指进入该节点的边的条数；节点的出度是指从该节点出发的边的条数；\n",
    "\n",
    "- 迪杰斯特拉路径：.从一个源点到其它各点的最短路径，可使用迪杰斯特拉算法来求最短路径；\n",
    "\n",
    "- 连通图：在一个无向图 G 中，若从顶点i到顶点j有路径相连，则称i和j是连通的。如果 G 是有向图，那么连接i和j的路径中所有的边都必须同向。如果图中任意两点都是连通的，那么图被称作连通图。如果此图是有向图，则称为强连通图。\n",
    "\n",
    "对于其他图算法，可以在networkx和igraph两个库中找到。"
   ]
  },
  {
   "cell_type": "markdown",
   "metadata": {
    "papermill": {
     "duration": 0.016751,
     "end_time": "2021-01-24T08:29:30.098161",
     "exception": false,
     "start_time": "2021-01-24T08:29:30.081410",
     "status": "completed"
    },
    "tags": []
   },
   "source": [
    "## 具体代码以及讲解\n",
    "\n",
    "首先读取我们想要的数据："
   ]
  },
  {
   "cell_type": "code",
   "execution_count": 1,
   "metadata": {
    "ExecuteTime": {
     "end_time": "2021-01-02T08:04:08.110441Z",
     "start_time": "2021-01-02T08:04:06.85338Z"
    },
    "execution": {
     "iopub.execute_input": "2021-01-24T08:29:30.127944Z",
     "iopub.status.busy": "2021-01-24T08:29:30.127220Z",
     "iopub.status.idle": "2021-01-24T08:29:31.512417Z",
     "shell.execute_reply": "2021-01-24T08:29:31.511511Z"
    },
    "papermill": {
     "duration": 1.403449,
     "end_time": "2021-01-24T08:29:31.512551",
     "exception": false,
     "start_time": "2021-01-24T08:29:30.109102",
     "status": "completed"
    },
    "tags": []
   },
   "outputs": [],
   "source": [
    "# 导入所需的package\n",
    "import seaborn as sns #用于画图\n",
    "from bs4 import BeautifulSoup #用于爬取arxiv的数据\n",
    "import re #用于正则表达式，匹配字符串的模式\n",
    "import requests #用于网络连接，发送网络请求，使用域名获取对应信息\n",
    "import json #读取数据，我们的数据为json格式的\n",
    "import pandas as pd #数据处理，数据分析\n",
    "import matplotlib.pyplot as plt #画图工具"
   ]
  },
  {
   "cell_type": "code",
   "execution_count": 2,
   "metadata": {
    "ExecuteTime": {
     "end_time": "2021-01-02T08:06:15.421139Z",
     "start_time": "2021-01-02T08:06:10.012723Z"
    },
    "execution": {
     "iopub.execute_input": "2021-01-24T08:29:31.547361Z",
     "iopub.status.busy": "2021-01-24T08:29:31.546606Z",
     "iopub.status.idle": "2021-01-24T08:30:55.420719Z",
     "shell.execute_reply": "2021-01-24T08:30:55.420051Z"
    },
    "papermill": {
     "duration": 83.895695,
     "end_time": "2021-01-24T08:30:55.420863",
     "exception": false,
     "start_time": "2021-01-24T08:29:31.525168",
     "status": "completed"
    },
    "tags": []
   },
   "outputs": [],
   "source": [
    "def readArxivFile(path, columns=['id', 'submitter', 'authors', 'title', 'comments', 'journal-ref', 'doi',\n",
    "       'report-no', 'categories', 'license', 'abstract', 'versions',\n",
    "       'update_date', 'authors_parsed'], count=None):\n",
    "    '''\n",
    "    定义读取文件的函数\n",
    "        path: 文件路径\n",
    "        columns: 需要选择的列\n",
    "        count: 读取行数\n",
    "    '''\n",
    "    \n",
    "    data  = []\n",
    "    with open(path, 'r') as f: \n",
    "        for idx, line in enumerate(f): \n",
    "            if idx == count:\n",
    "                break\n",
    "                \n",
    "            d = json.loads(line)\n",
    "            d = {col : d[col] for col in columns}\n",
    "            data.append(d)\n",
    "\n",
    "    data = pd.DataFrame(data)\n",
    "    return data\n",
    "\n",
    "data = readArxivFile('/kaggle/input/arxiv/arxiv-metadata-oai-snapshot.json', \n",
    "                     ['id', 'authors_parsed','categories','update_date'])\n"
   ]
  },
  {
   "cell_type": "code",
   "execution_count": 3,
   "metadata": {
    "execution": {
     "iopub.execute_input": "2021-01-24T08:30:55.720777Z",
     "iopub.status.busy": "2021-01-24T08:30:55.452554Z",
     "iopub.status.idle": "2021-01-24T08:30:57.122080Z",
     "shell.execute_reply": "2021-01-24T08:30:57.121446Z"
    },
    "papermill": {
     "duration": 1.689921,
     "end_time": "2021-01-24T08:30:57.122224",
     "exception": false,
     "start_time": "2021-01-24T08:30:55.432303",
     "status": "completed"
    },
    "tags": []
   },
   "outputs": [],
   "source": [
    "# 选择类别为cs.CV下面的论文\n",
    "data[\"year\"] = pd.to_datetime(data[\"update_date\"]).dt.year #将update_date从例如2019-02-20的str变为datetime格式，并提取处year\n",
    "del data[\"update_date\"] #删除 update_date特征，其使命已完成\n"
   ]
  },
  {
   "cell_type": "code",
   "execution_count": 4,
   "metadata": {
    "execution": {
     "iopub.execute_input": "2021-01-24T08:30:57.152301Z",
     "iopub.status.busy": "2021-01-24T08:30:57.151417Z",
     "iopub.status.idle": "2021-01-24T08:31:00.537273Z",
     "shell.execute_reply": "2021-01-24T08:31:00.537796Z"
    },
    "papermill": {
     "duration": 3.404377,
     "end_time": "2021-01-24T08:31:00.537937",
     "exception": false,
     "start_time": "2021-01-24T08:30:57.133560",
     "status": "completed"
    },
    "tags": []
   },
   "outputs": [
    {
     "data": {
      "text/html": [
       "<div>\n",
       "<style scoped>\n",
       "    .dataframe tbody tr th:only-of-type {\n",
       "        vertical-align: middle;\n",
       "    }\n",
       "\n",
       "    .dataframe tbody tr th {\n",
       "        vertical-align: top;\n",
       "    }\n",
       "\n",
       "    .dataframe thead th {\n",
       "        text-align: right;\n",
       "    }\n",
       "</style>\n",
       "<table border=\"1\" class=\"dataframe\">\n",
       "  <thead>\n",
       "    <tr style=\"text-align: right;\">\n",
       "      <th></th>\n",
       "      <th>year</th>\n",
       "    </tr>\n",
       "  </thead>\n",
       "  <tbody>\n",
       "    <tr>\n",
       "      <th>count</th>\n",
       "      <td>11168.0</td>\n",
       "    </tr>\n",
       "    <tr>\n",
       "      <th>mean</th>\n",
       "      <td>2019.0</td>\n",
       "    </tr>\n",
       "    <tr>\n",
       "      <th>std</th>\n",
       "      <td>0.0</td>\n",
       "    </tr>\n",
       "    <tr>\n",
       "      <th>min</th>\n",
       "      <td>2019.0</td>\n",
       "    </tr>\n",
       "    <tr>\n",
       "      <th>25%</th>\n",
       "      <td>2019.0</td>\n",
       "    </tr>\n",
       "    <tr>\n",
       "      <th>50%</th>\n",
       "      <td>2019.0</td>\n",
       "    </tr>\n",
       "    <tr>\n",
       "      <th>75%</th>\n",
       "      <td>2019.0</td>\n",
       "    </tr>\n",
       "    <tr>\n",
       "      <th>max</th>\n",
       "      <td>2019.0</td>\n",
       "    </tr>\n",
       "  </tbody>\n",
       "</table>\n",
       "</div>"
      ],
      "text/plain": [
       "          year\n",
       "count  11168.0\n",
       "mean    2019.0\n",
       "std        0.0\n",
       "min     2019.0\n",
       "25%     2019.0\n",
       "50%     2019.0\n",
       "75%     2019.0\n",
       "max     2019.0"
      ]
     },
     "execution_count": 4,
     "metadata": {},
     "output_type": "execute_result"
    }
   ],
   "source": [
    "data = data[(data['categories'].apply(lambda x: 'cs.CV' in x)) & (data['year'].apply(lambda x: x==2019))]\n",
    "data.reset_index(drop=True, inplace=True) #重新编号\n",
    "data.describe()"
   ]
  },
  {
   "cell_type": "markdown",
   "metadata": {
    "papermill": {
     "duration": 0.0116,
     "end_time": "2021-01-24T08:31:00.562442",
     "exception": false,
     "start_time": "2021-01-24T08:31:00.550842",
     "status": "completed"
    },
    "tags": []
   },
   "source": [
    "创建作者链接的无向图："
   ]
  },
  {
   "cell_type": "code",
   "execution_count": 5,
   "metadata": {
    "ExecuteTime": {
     "end_time": "2021-01-02T08:10:35.314583Z",
     "start_time": "2021-01-02T08:10:35.304367Z"
    },
    "execution": {
     "iopub.execute_input": "2021-01-24T08:31:00.594636Z",
     "iopub.status.busy": "2021-01-24T08:31:00.593740Z",
     "iopub.status.idle": "2021-01-24T08:31:01.090022Z",
     "shell.execute_reply": "2021-01-24T08:31:01.091174Z"
    },
    "papermill": {
     "duration": 0.517121,
     "end_time": "2021-01-24T08:31:01.091399",
     "exception": false,
     "start_time": "2021-01-24T08:31:00.574278",
     "status": "completed"
    },
    "tags": []
   },
   "outputs": [
    {
     "name": "stdout",
     "output_type": "stream",
     "text": [
      "['Pal Mahesh']\n",
      "['Mokhov Serguei A. ', 'Sinclair Stephen ', 'Clément Ian ', 'Nicolacopoulos Dimitrios ']\n",
      "['Aholt Chris', 'Sturmfels Bernd', 'Thomas Rekha']\n",
      "['Ronda José I.', 'Valdés Antonio', 'Gallego Guillermo']\n",
      "['Guha Tanaya', 'Ward Rabab K.']\n",
      "['Olaizola Igor G.', 'Quartulli Marco', 'Florez Julian', 'Sierra Basilio']\n",
      "['Xie Xiaohua', 'Xu Kai', 'Mitra Niloy J.', 'Cohen-Or Daniel', 'Chen Baoquan']\n",
      "['Guha Tanaya', 'Nezhadarya Ehsan', 'Ward Rabab K']\n",
      "['Gao Fei', 'Tao Dacheng', 'Gao Xinbo', 'Li Xuelong']\n",
      "['Sun Yuli', 'Tao Jinxu', 'Liu Conggui']\n",
      "['Sun Yuli', 'Tao Jinxu']\n",
      "['Soorma Neha ', 'Singh Jaikaran ', 'Tiwari Mukesh ']\n",
      "['Poling Bryan', 'Lerman Gilad', 'Szlam Arthur']\n",
      "['Chung Moo K.', 'Hanson Jamie L.', 'Ye Jieping', 'Davidson Richard J.', 'Pollak Seth D.']\n",
      "['Li Junhua', 'Struzik Zbigniew', 'Zhang Liqing', 'Cichocki Andrzej']\n",
      "['Gilani Syed Zulqarnain', 'Mian Ajmal', 'Shafait Faisal', 'Reid Ian']\n",
      "['Li Junhua', 'Li Chao', 'Cichocki Andrzej']\n",
      "['van Gennip Yves', 'Athavale Prashant', 'Gilles Jérôme', 'Choksi Rustum']\n",
      "['Vitanyi P. M. B. ']\n",
      "['Vitale Jonathan', 'Williams Mary-Anne', 'Johnston Benjamin', 'Boccignone Giuseppe']\n",
      "['Borji Ali', 'Cheng Ming-Ming', 'Hou Qibin', 'Jiang Huaizu', 'Li Jia']\n",
      "['Strauß Tobias ', 'Grüning Tobias ', 'Leifert Gundram ', 'Labahn Roger ']\n",
      "['Leifert Gundram ', 'Grüning Tobias ', 'Strauß Tobias ', 'Labahn Roger ']\n",
      "['Cohen Taco S.', 'Welling Max']\n",
      "['Torres Wuilian', 'Rueda-Toicen Antonio']\n",
      "['Melo E. F.', 'de Oliveira H. M.']\n",
      "['Oh Tae-Hyun', 'Tai Yu-Wing', 'Bazin Jean-Charles', 'Kim Hyeongwoo', 'Kweon In So']\n",
      "['Li Xiangru', 'Lu Yu', 'Comte Georges', 'Luo Ali', 'Zhao Yongheng', 'Wang Yongjun']\n",
      "['Lai Hanjiang', 'Pan Yan', 'Liu Ye', 'Yan Shuicheng']\n",
      "['Felzenszwalb Pedro F.', 'Svaiter Benar F.']\n",
      "['Arrigoni Federica', 'Fusiello Andrea', 'Rossi Beatrice', 'Fragneto Pasqualina']\n",
      "['Mandal Subhamoy', 'Sudarshan Viswanath Pamulakanty', 'Nagaraj Yeshaswini', 'Ben Xose Luis Dean', 'Razansky Daniel']\n",
      "['Boccignone Giuseppe']\n",
      "['Parizi Sobhan Naderi', 'He Kun', 'Aghajani Reza', 'Sclaroff Stan', 'Felzenszwalb Pedro']\n",
      "['Isikdogan F.', 'Bovik A. C.', 'Passalacqua P.']\n",
      "['Bohi Amine', 'Prandi Dario', 'Guis Vincente', 'Bouchara Frédéric', 'Gauthier Jean-Paul']\n",
      "['Hafemann Luiz G.', 'Sabourin Robert', 'Oliveira Luiz S.']\n",
      "['Oh Tae-Hyun', 'Matsushita Yasuyuki', 'Tai Yu-Wing', 'Kweon In So']\n",
      "['Tsakiris Manolis C.', 'Vidal Rene']\n",
      "['Tsakiris Manolis C.', 'Vidal Rene']\n",
      "['Mandal Subhamoy', 'Deán-Ben Xosé Luís', 'Razansky Daniel']\n",
      "['Palmieri Luigi', 'Rudenko Andrey', 'Arras Kai O.']\n",
      "['Ginosar Shiry', 'Rakelly Kate', 'Sachs Sarah', 'Yin Brian', 'Lee Crystal', 'Krahenbuhl Philipp', 'Efros Alexei A.']\n",
      "['McClure Patrick', 'Kriegeskorte Nikolaus']\n",
      "['Fu Yanwei', 'Huang De-An', 'Sigal Leonid']\n",
      "['Huang Shaoli', 'Xu Zhe', 'Tao Dacheng', 'Zhang Ya']\n",
      "['Khosravi Mohammad Reza', 'Sharif-Yazd Mohammad', 'Moghimi Mohammad Kazem', 'Keshavarz Ahmad', 'Rostami Habib', 'Mansouri Suleiman']\n",
      "['Huttunen Heikki', 'Yancheshmeh Fatemeh Shokrollahi', 'Chen Ke']\n",
      "['Iyer Rahul Radhakrishnan', 'Parekh Sanjeel', 'Mohandoss Vikas', 'Ramsurat Anush', 'Raj Bhiksha', 'Singh Rita']\n",
      "['Sudarshan Viswanath P', 'Weiser Tobias', 'Chintala Phalgun', 'Mandal Subhamoy', 'Dutta Rahul']\n",
      "['Gaya Joel D. O.', 'Codevilla Felipe', 'Duarte Amanda C.', 'Drews-Jr Paulo L.', 'Botelho Silvia S.']\n",
      "['Abdulkhaev Alisher', 'Yilmaz Ozgur']\n",
      "['Liu Fuqiang', 'Bi Fukun', 'Chen Liang']\n",
      "['Markuš Nenad', 'Pandžić Igor S.', 'Ahlberg Jörgen']\n",
      "['Granstrom Karl', 'Baum Marcus', 'Reuter Stephan']\n",
      "['Savinov Nikolay', 'Haene Christian', 'Ladicky Lubor', 'Pollefeys Marc']\n",
      "['Ponti Moacir', 'Riva Mateus']\n",
      "['Barina David', 'Kula Michal', 'Zemcik Pavel']\n",
      "['Granstrom Karl', 'Fatemi Maryam', 'Svensson Lennart']\n",
      "['Chen Yanxiang', 'Hu Yuxing', 'Zhang Luming', 'Li Ping', 'Zhang Chao']\n",
      "['Triki Amal Rannen', 'Blaschko Matthew B.']\n",
      "['Chua Jeroen', 'Felzenszwalb Pedro F.']\n",
      "['Konyushkova Ksenia', 'Sznitman Raphael', 'Fua Pascal']\n",
      "['Zamzmi Ghada', 'Goldgof Dmitry', 'Kasturi Rangachar', 'Sun Yu', 'Ashmeade Terri']\n",
      "['Gallego Guillermo', 'Lund Jon E. A.', 'Mueggler Elias', 'Rebecq Henri', 'Delbruck Tobi', 'Scaramuzza Davide']\n",
      "['Arablouei Reza', 'Goan Ethan', 'Gensemer Stephen', 'Kusy Branislav']\n",
      "['Al-Shabi Mundher', 'Cheah Wooi Ping', 'Connie Tee']\n",
      "['Zha Zhiyuan', 'Wen Bihan', 'Zhang Jiachao', 'Zhou Jiantao', 'Zhu Ce']\n",
      "['Spampinato Concetto', 'Palazzo Simone', 'Kavasidis Isaak', 'Giordano Daniela', 'Shah Mubarak', 'Souly Nasim']\n",
      "['Aizenbud Yariv', 'Shkolnisky Yoel']\n",
      "['Han Lei', 'Sun Juanzhen', 'Zhang Wei', 'Xiu Yuanyuan', 'Feng Hailei', 'Lin Yinjing']\n",
      "['Coninx Alexandre', 'Bessière Pierre', 'Droulez Jacques']\n",
      "['Clement Lee', 'Peretroukhin Valentin', 'Kelly Jonathan']\n",
      "['Liu Yi', 'Liu Jingwei']\n",
      "['Prangnell Lee']\n",
      "['Peretroukhin Valentin', 'Clement Lee', 'Kelly Jonathan']\n",
      "['Cai Xiaohao', 'Wallis Christopher G. R.', 'Chan Jennifer Y. H.', 'McEwen Jason D.']\n",
      "['Oliveira P. A. M.', 'Cintra R. J.', 'Bayer F. M.', 'Kulasekera S.', 'Madanayake A.', 'Coutinho V. A.']\n",
      "['Selvaraju Ramprasaath R.', 'Cogswell Michael', 'Das Abhishek', 'Vedantam Ramakrishna', 'Parikh Devi', 'Batra Dhruv']\n",
      "['McCaig Graeme', 'DiPaola Steve', 'Gabora Liane']\n",
      "['Liu Min', 'Shi Yifei', 'Zheng Lintao', 'Xu Kai', 'Huang Hui', 'Manocha Dinesh']\n",
      "['Laga Hamid', 'Xie Qian', 'Jermyn Ian H.', 'Srivastava Anuj']\n",
      "['Aksoy Eren Erdal', 'Orhan Adil', 'Woergoetter Florentin']\n",
      "['Gewali Utsav B.', 'Monteiro Sildomar T.']\n",
      "['Gewali Utsav B.', 'Monteiro Sildomar T.']\n",
      "['Tang Da', 'Jebara Tony']\n",
      "['McClure Patrick', 'Kriegeskorte Nikolaus']\n",
      "['Mastriani Mario']\n",
      "['Shah Abhay', 'Abramoff Michael D.', 'Wu Xiaodong']\n",
      "['Zhang Li', 'Xiang Tao', 'Gong Shaogang']\n",
      "['Iscen Ahmet', 'Tolias Giorgos', 'Avrithis Yannis', 'Furon Teddy', 'Chum Ondrej']\n",
      "['Johnson Jeremiah']\n",
      "['Emeršič Žiga', 'Štruc Vitomir', 'Peer Peter']\n",
      "['Rozumnyi Denys', 'Kotera Jan', 'Sroubek Filip', 'Novotny Lukas', 'Matas Jiri']\n",
      "['Lukežič Alan', 'Vojíř Tomáš', 'Čehovin Luka', 'Matas Jiří', 'Kristan Matej']\n",
      "['Lu Yuzhen']\n",
      "['Berenbaum David', 'Deighan Dwyer', 'Marlow Thomas', 'Lee Ashley', 'Frickel Scott', 'Howison Mark']\n",
      "['Wu Bichen', 'Wan Alvin', 'Iandola Forrest', 'Jin Peter H.', 'Keutzer Kurt']\n",
      "['Liu Yun', 'Cheng Ming-Ming', 'Hu Xiaowei', 'Wang Kai', 'Bai Xiang']\n",
      "['Khoreva Anna', 'Perazzi Federico', 'Benenson Rodrigo', 'Schiele Bernt', 'Sorkine-Hornung Alexander']\n",
      "['Wijmans Erik', 'Furukawa Yasutaka']\n",
      "['Le Hieu', 'Yu Chen-Ping', 'Zelinsky Gregory', 'Samaras Dimitris']\n",
      "['Dong Qiulei', 'Hu Zhanyi']\n",
      "['Averbuch-Elor Hadar', 'Bar Nadav', 'Cohen-Or Daniel']\n",
      "['Albarqouni Shadi', 'Fotouhi Javad', 'Navab Nassir']\n",
      "['Rahimpour Alireza', 'Taalimi Ali', 'Qi Hairong']\n",
      "['Cai Deng']\n",
      "['Zhuang Xiahai']\n",
      "['Connie Tee', 'Al-Shabi Mundher', 'Goh Michael']\n",
      "['Borsoi Ricardo A.', 'Aya Julio C. C.', 'Costa Guilherme H.', 'Bermudez José C. M.']\n",
      "['Barron Jonathan T.']\n",
      "['Zhang He', 'Sindagi Vishwanath', 'Patel Vishal M.']\n",
      "['Kortylewski Adam', 'Wieczorek Aleksander', 'Wieser Mario', 'Blumer Clemens', 'Parbhoo Sonali', 'Morel-Forster Andreas', 'Roth Volker', 'Vetter Thomas']\n",
      "['Qi Guo-Jun']\n",
      "['Dutta Anjan', 'Sahbi Hichem']\n",
      "['Emeršič Žiga', 'Gabriel Luka Lan', 'Štruc Vitomir', 'Peer Peter']\n",
      "['Rafegas Ivet', 'Vanrell Maria', 'Alexandre Luis A.', 'Arias Guillem']\n",
      "['Minaee Shervin', 'Abdolrashidi Amirali', 'Wang Yao']\n",
      "['Zuo Xinxin', 'Wang Sen', 'Zheng Jiangbin', 'Yang Ruigang']\n",
      "['Rahmani Mostafa', 'Atia George']\n",
      "['Guo Hengkai', 'Wang Guijin', 'Chen Xinghao', 'Zhang Cairong', 'Qiao Fei', 'Yang Huazhong']\n",
      "['Takahashi Ryo', 'Matsubara Takashi', 'Uehara Kuniaki']\n",
      "['Gupta Saurabh', 'Tolani Varun', 'Davidson James', 'Levine Sergey', 'Sukthankar Rahul', 'Malik Jitendra']\n",
      "['Yao Hantao', 'Dai Feng', 'Zhang Dongming', 'Ma Yike', 'Zhang Shiliang', 'Zhang Yongdong', 'Tian Qi']\n",
      "['Litjens Geert', 'Kooi Thijs', 'Bejnordi Babak Ehteshami', 'Setio Arnaud Arindra Adiyoso', 'Ciompi Francesco', 'Ghafoorian Mohsen', 'van der Laak Jeroen A. W. M.', 'van Ginneken Bram', 'Sánchez Clara I.']\n",
      "['Zhang Wei', 'Hu Shengnan', 'Liu Kan', 'Zha Zhengjun']\n",
      "['Sochor Jakub', 'Juránek Roman', 'Špaňhel Jakub', 'Maršík Lukáš', 'Široký Adam', 'Herout Adam', 'Zemčík Pavel']\n",
      "['Mueggler Elias', 'Gallego Guillermo', 'Rebecq Henri', 'Scaramuzza Davide']\n",
      "['Inoue Hiroshi']\n",
      "['Mahbod Amirreza', 'Schaefer Gerald', 'Wang Chunliang', 'Ecker Rupert', 'Ellinger Isabella']\n",
      "['Sochor Jakub', 'Špaňhel Jakub', 'Herout Adam']\n",
      "['Xu Sheng', 'Wang Ruisheng', 'Zheng Han']\n",
      "['Antonello Morris', 'Carraro Marco', 'Pierobon Marco', 'Menegatti Emanuele']\n",
      "['Kawahara Jeremy', 'Hamarneh Ghassan']\n",
      "['Li Kun', 'Yang Jingyu', 'Lai Yu-Kun', 'Guo Daoliang']\n",
      "['Volkhonskiy Denis', 'Nazarov Ivan', 'Burnaev Evgeny']\n",
      "['Baur Christoph', 'Albarqouni Shadi', 'Navab Nassir']\n",
      "['Kim Youngsung', 'Yoo ByungIn', 'Kwak Youngjun', 'Choi Changkyu', 'Kim Junmo']\n",
      "['Wu Huikai', 'Zheng Shuai', 'Zhang Junge', 'Huang Kaiqi']\n",
      "['Lin Yutian', 'Zheng Liang', 'Zheng Zhedong', 'Wu Yu', 'Hu Zhilan', 'Yan Chenggang', 'Yang Yi']\n",
      "['Zhao Long', 'Han Fangda', 'Peng Xi', 'Zhang Xun', 'Kapadia Mubbasir', 'Pavlovic Vladimir', 'Metaxas Dimitris N.']\n",
      "['Lou Jing', 'Wang Huan', 'Chen Longtao', 'Xu Fenglei', 'Xia Qingyuan', 'Zhu Wei', 'Ren Mingwu']\n",
      "['Khoreva Anna', 'Benenson Rodrigo', 'Ilg Eddy', 'Brox Thomas', 'Schiele Bernt']\n",
      "['Wang Zhiguang', 'Yang Jianbo']\n",
      "['Cannings Timothy I.', 'Berrett Thomas B.', 'Samworth Richard J.']\n",
      "['Avola Danilo', 'Foresti Gian Luca', 'Martinel Niki', 'Pannone Daniele', 'Piciarelli Claudio']\n",
      "['Shrikumar Avanti', 'Greenside Peyton', 'Kundaje Anshul']\n",
      "['Wu Zuxuan', 'Davis Larry S.', 'Sigal Leonid']\n",
      "['Meinhardt Tim', 'Moeller Michael', 'Hazirbas Caner', 'Cremers Daniel']\n",
      "['Elgendy Omar A.', 'Chan Stanley H.']\n",
      "['Arnold Lukas On ']\n",
      "['Janai Joel', 'Güney Fatma', 'Behl Aseem', 'Geiger Andreas']\n",
      "['Deniz Cem M.', 'Xiang Siyuan', 'Hallyburton Spencer', 'Welbeck Arakua', 'Babb James S.', 'Honig Stephen', 'Cho Kyunghyun', 'Chang Gregory']\n",
      "['Carvalho João', 'Marques Manuel', 'Costeira João P.']\n",
      "['Xu Minmin', 'Xu Siyu', 'Zhu Jihua', 'Li Yaochen', 'Wang Jun', 'Lu Huimin']\n",
      "['Brogan Joel', 'Bestagini Paolo', 'Bharati Aparna', 'Pinto Allan', 'Moreira Daniel', 'Bowyer Kevin', 'Flynn Patrick', 'Rocha Anderson', 'Scheirer Walter']\n",
      "['Pandey Gaurav', 'Dukkipati Ambedkar']\n",
      "['Wang Xiaosong', 'Peng Yifan', 'Lu Le', 'Lu Zhiyong', 'Bagheri Mohammadhadi', 'Summers Ronald M.']\n",
      "['Borkar Tejas', 'Karam Lina']\n",
      "['Harangi Balazs']\n",
      "['Bae Sung-Ho', 'Elgharib Mohamed', 'Hefeeda Mohamed', 'Matusik Wojciech']\n",
      "['Zhang Jing', 'Li Wanqing', 'Ogunbona Philip', 'Xu Dong']\n",
      "['Lu Yao', 'Yang Zhirong', 'Kannala Juho', 'Kaski Samuel']\n",
      "['Wang Zhengyang', 'Yuan Hao', 'Ji Shuiwang']\n",
      "['Dong Xingping', 'Shen Jianbing', 'Wu Dongming', 'Guo Kan', 'Jin Xiaogang', 'Porikli Fatih']\n",
      "['Krishna Onkar', 'Aizawa Kiyoharu', 'Helo Andrea', 'Pia Rama']\n",
      "['Goldman Eran', 'Goldberger Jacob']\n",
      "['Dong Xin', 'Chen Shangyu', 'Pan Sinno Jialin']\n",
      "['Khalili A. M.']\n",
      "['Kiran B Ravi', 'Das Arindam', 'Yogamani Senthil']\n",
      "['Herring James', 'Nagy James', 'Ruthotto Lars']\n",
      "['Deza Arturo', 'Jonnalagadda Aditya', 'Eckstein Miguel']\n",
      "['Veshki Farshad G.', 'Vorobyov Sergiy A.']\n",
      "['Baisa Nathanael L.', 'Bhowmik Deepayan', 'Wallace Andrew']\n",
      "['Baisa Nathanael L.', 'Wallace Andrew']\n",
      "['Soleymani Roghayeh', 'Granger Eric', 'Fumera Giorgio']\n",
      "['Tsakiris Manolis C.', 'Vidal Rene']\n",
      "['Si-Yao Li', 'Ren Dongwei', 'Yin Qian']\n",
      "['Wu Jiqing', 'Huang Zhiwu', 'Acharya Dinesh', 'Li Wen', 'Thoma Janine', 'Paudel Danda Pani', 'Van Gool Luc']\n",
      "['Kragh Mikkel', 'Underwood James']\n",
      "['Chen Chong', 'Öktem Ozan']\n",
      "['Sun Xu', 'Ren Xuancheng', 'Ma Shuming', 'Wang Houfeng']\n",
      "['Joshi Sharad', 'Khanna Nitin']\n",
      "['Shao Ruifeng', 'Xu Ning', 'Geng Xin']\n",
      "['Nagar Rajendra', 'Raman Shanmuganathan']\n",
      "['Wang Chaoyue', 'Xu Chang', 'Wang Chaohui', 'Tao Dacheng']\n",
      "['Zheng Zhedong', 'Zheng Liang', 'Yang Yi']\n",
      "['Yao Hantao', 'Zhang Shiliang', 'Zhang Yongdong', 'Li Jintao', 'Tian Qi']\n",
      "['Jund Philipp', 'Eitel Andreas', 'Abdo Nichola', 'Burgard Wolfram']\n",
      "['Liao Jun', 'Jiang Yutong', 'Bian Zichao', 'Mahrou Bahareh', 'Nambiar Aparna', 'Magsam Alexander W.', 'Guo Kaikai', 'Cho Yong Ku', 'Zheng Guoan']\n",
      "['Zeng Zhiqiang', 'Zhang Jian', 'Wang Xiaodong', 'Chen Yuming', 'Zhu Chaoyang']\n",
      "['Yang Weixin', 'Lyons Terry', 'Ni Hao', 'Schmid Cordelia', 'Jin Lianwen']\n",
      "['Vongkulbhisal Jayakorn', 'De la Torre Fernando', 'Costeira João P.']\n",
      "['Guo Tian']\n",
      "['Ji Pan', 'Reid Ian', 'Garg Ravi', 'Li Hongdong', 'Salzmann Mathieu']\n",
      "['Aksoy Yağız', 'Aydın Tunç Ozan', 'Pollefeys Marc']\n",
      "['Noyel Guillaume ']\n",
      "['Mees Oier', 'Eitel Andreas', 'Burgard Wolfram']\n",
      "['Bojanowski Piotr', 'Joulin Armand', 'Lopez-Paz David', 'Szlam Arthur']\n",
      "['Wojna Zbigniew', 'Ferrari Vittorio', 'Guadarrama Sergio', 'Silberman Nathan', 'Chen Liang-Chieh', 'Fathi Alireza', 'Uijlings Jasper']\n",
      "['Benligiray Burak', 'Topal Cihan', 'Akinlar Cuneyt']\n",
      "['Yu Fisher', 'Wang Dequan', 'Shelhamer Evan', 'Darrell Trevor']\n",
      "['Zhao Ningning', \"O'Connor Daniel\", 'Basarab Adrian', 'Ruan Dan', 'Hu Peng', 'Sheng Ke']\n",
      "['Tong Xin-Yi', 'Xia Gui-Song', 'Hu Fan', 'Zhong Yanfei', 'Datcu Mihai', 'Zhang Liangpei']\n",
      "['Rahimpour Alireza', 'Liu Liu', 'Taalimi Ali', 'Song Yang', 'Qi Hairong']\n",
      "['Pontes Jhony K.', 'Kong Chen', 'Eriksson Anders', 'Fookes Clinton', 'Sridharan Sridha', 'Lucey Simon']\n",
      "['Guo Chunchao', 'Lai Jianhuang', 'Xie Xiaohua']\n",
      "['Prakash Jaya', 'Mandal Subhamoy', 'Razansky Daniel', 'Ntziachristos Vasilis']\n",
      "['Xiao Chang', 'Zhang Cheng', 'Zheng Changxi']\n",
      "['Phung Manh Duong', 'Hoang Van Truong', 'Dinh Tran Hiep', 'Ha Quang']\n",
      "['Bali Alexandre']\n",
      "['Ghiasi-Shirazi Kamaledin']\n",
      "['Zhang Chengyue', 'Li Zhiwei', 'Cheng Qing', 'Li Xinghua', 'Shen Huanfeng']\n",
      "['Baskin Chaim', 'Liss Natan', 'Zheltonozhskii Evgenii', 'Bronshtein Alex M.', 'Mendelson Avi']\n",
      "['Peretroukhin Valentin', 'Clement Lee', 'Giamou Matthew', 'Kelly Jonathan']\n",
      "['Zhang He', 'Sindagi Vishwanath', 'Patel Vishal M.']\n",
      "['Lee Minhyeok', 'Seok Junhee']\n",
      "['Park Hyung Suk', 'Lee Sung Min', 'Kim Hwa Pyung', 'Seo Jin Keun']\n",
      "['Tixier Antoine Jean-Pierre', 'Nikolentzos Giannis', 'Meladianos Polykarpos', 'Vazirgiannis Michalis']\n",
      "['Zeng Yu', 'Lu Huchuan', 'Borji Ali']\n",
      "['Cho Donghyeon', 'Park Jinsun', 'Oh Tae-Hyun', 'Tai Yu-Wing', 'Kweon In So']\n",
      "['Komorowski Michal', 'Trzcinski Tomasz']\n",
      "['Pourkamali-Anaraki Farhad', 'Becker Stephen']\n",
      "['Chen Xinghao', 'Wang Guijin', 'Guo Hengkai', 'Zhang Cairong']\n",
      "['Yu Zhou', 'Yu Jun', 'Xiang Chenchao', 'Fan Jianping', 'Tao Dacheng']\n",
      "['Zhang Quanshi', 'Wu Ying Nian', 'Zhang Hao', 'Zhu Song-Chun']\n",
      "['Laloy Eric', 'Hérault Romain', 'Jacques Diederik', 'Linde Niklas']\n",
      "['Lobos Rodrigo A.', 'Kim Tae Hyung', 'Hoge W. Scott', 'Haldar Justin P.']\n",
      "['Mokari Mozhgan', 'Mohammadzade Hoda', 'Ghojogh Benyamin']\n",
      "['Yi Xin', 'Babyn Paul']\n",
      "['Yao Yazhou', 'Zhang Jian', 'Shen Fumin', 'Liu Li', 'Zhu Fan', 'Zhang Dongxiang', 'Shen Heng-Tao']\n",
      "['Bas Anil', 'Smith William A. P.']\n",
      "['Emeršič Žiga', 'Štepec Dejan', 'Štruc Vitomir', 'Peer Peter', 'George Anjith', 'Ahmad Adil', 'Omar Elshibani', 'Boult Terrance E.', 'Safdari Reza', 'Zhou Yuxiang', 'Zafeiriou Stefanos', 'Yaman Dogucan', 'Eyiokur Fevziye I.', 'Ekenel Hazim K.']\n",
      "['Sakaridis Christos', 'Dai Dengxin', 'Van Gool Luc']\n",
      "['Nguyen Anh', 'Do Thanh-Toan', 'Caldwell Darwin G.', 'Tsagarakis Nikos G.']\n",
      "['Moolekamp Fred', 'Melchior Peter']\n",
      "['Shen Li', 'Margolies Laurie R.', 'Rothstein Joseph H.', 'Fluder Eugene', 'McBride Russell B.', 'Sieh Weiva']\n",
      "['Datta Shounak', 'Nag Sayak', 'Das Swagatam']\n",
      "['Helber Patrick', 'Bischke Benjamin', 'Dengel Andreas', 'Borth Damian']\n",
      "['He Xiangteng', 'Peng Yuxin']\n",
      "['Cangea Cătălina', 'Veličković Petar', 'Liò Pietro']\n",
      "['Wu Cinna', 'Tygert Mark', 'LeCun Yann']\n",
      "['Garcia Noa', 'Vogiatzis George']\n",
      "['Hu Jie', 'Shen Li', 'Albanie Samuel', 'Sun Gang', 'Wu Enhua']\n",
      "['Anwar Syed Muhammad', 'Majid Muhammad', 'Qayyum Adnan', 'Awais Muhammad', 'Alnowami Majdi', 'Khan Muhammad Khurram']\n",
      "['Wang Qian', 'Chen Ke']\n",
      "['Lesort Timothée', 'Seurin Mathieu', 'Li Xinrui', 'Díaz-Rodríguez Natalia', 'Filliat David']\n",
      "['Jiang Lai', 'Xu Mai', 'Wang Zulin']\n",
      "['Rangesh Akshay', 'Yuen Kevan', 'Satzoda Ravi Kumar', 'Rajaram Rakesh Nattoji', 'Gunaratne Pujitha', 'Trivedi Mohan M.']\n",
      "['Fong Chamberlain']\n",
      "['Jha Ranjeet Ranjan', 'Thapar Daksh', 'Patil Shreyas Malakarjun', 'Nigam Aditya']\n",
      "['Bhunia Ankan Kumar', 'Alaei Alireza', 'Roy Partha Pratim']\n",
      "['Corbière Charles', 'Ben-Younes Hedi', 'Ramé Alexandre', 'Ollion Charles']\n",
      "['Dubey Shiv Ram']\n",
      "['Lerman Gilad', 'Shi Yunpeng', 'Zhang Teng']\n",
      "['Pasquale Giulia', 'Ciliberto Carlo', 'Odone Francesca', 'Rosasco Lorenzo', 'Natale Lorenzo']\n",
      "['Gong Sixue', 'Boddeti Vishnu Naresh', 'Jain Anil K.']\n",
      "['Sanzari Marta', 'Ntouskos Valsamis', 'Pirri Fiora']\n",
      "['Duran Joan', 'Buades Antoni']\n",
      "['Di Xing', 'Sindagi Vishwanath A.', 'Patel Vishal M.']\n",
      "['Xu Mai', 'Li Tianyi', 'Wang Zulin', 'Deng Xin', 'Yang Ren', 'Guan Zhenyu']\n",
      "['Dar Salman Ul Hassan', 'Özbey Muzaffer', 'Çatlı Ahmet Burak', 'Çukur Tolga']\n",
      "['Vidal Rosaura G.', 'Banerjee Sreya', 'Grm Klemen', 'Struc Vitomir', 'Scheirer Walter J.']\n",
      "['Shi Bowen', 'Livescu Karen']\n",
      "['Shin Seung Yeon', 'Lee Soochahn', 'Yun Il Dong', 'Kim Sun Mi', 'Lee Kyoung Mu']\n",
      "['Li Yijun', 'Huang Jia-Bin', 'Ahuja Narendra', 'Yang Ming-Hsuan']\n",
      "['Tu Peihan']\n",
      "['Tu Peihan']\n",
      "['Bacchuwar Ketan ', 'Cousty Jean ', 'Vaillant Régis ', 'Najman Laurent ']\n",
      "['Thapar Daksh', 'Aggarwal Divyansh', 'Agarwal Punjal', 'Nigam Aditya']\n",
      "['Jiang Zutao', 'Zhu Jihua', 'Evangelidis Georgios D.', 'Zhang Changqing', 'Pang Shanmin', 'Li Yaochen']\n",
      "['Dolz Jose', 'Ayed Ismail Ben', 'Yuan Jing', 'Desrosiers Christian']\n",
      "['Zhou Linjun', 'Cui Peng', 'Yang Shiqiang', 'Zhu Wenwu', 'Tian Qi']\n",
      "['Sun Zhiyu', 'He Yusen', 'Gritsenko Andrey', 'Lendasse Amaury', 'Baek Stephen']\n",
      "['Su Jiawei', 'Vargas Danilo Vasconcellos', 'Kouichi Sakurai']\n",
      "['Chakraborti Tapabrata', 'McCane Brendan', 'Mills Steven', 'Pal Umapada']\n",
      "['Berger Matthew', 'Li Jixian', 'Levine Joshua A.']\n",
      "['Zhang Linguang', 'Finkelstein Adam', 'Rusinkiewicz Szymon']\n",
      "['Sun Yanan', 'Xue Bing', 'Zhang Mengjie', 'Yen Gary G.']\n",
      "['Song Yuhang', 'Xu Mai', 'Wang Jianyi', 'Qiao Minglang', 'Huo Liangyu', 'Wang Zulin']\n",
      "['Jiao Changzhe', 'Chen Chao', 'McGarvey Ronald G.', 'Bohlman Stephanie', 'Jiao Licheng', 'Zare Alina']\n",
      "['Chen Yu', 'Shen Chunhua', 'Chen Hao', 'Wei Xiu-Shen', 'Liu Lingqiao', 'Yang Jian']\n",
      "['Chen Mickaël', 'Denoyer Ludovic', 'Artières Thierry']\n",
      "['Valle Eduardo', 'Fornaciali Michel', 'Menegola Afonso', 'Tavares Julia', 'Bittencourt Flávia Vasques', 'Li Lin Tzy', 'Avila Sandra']\n",
      "['Jhuo I-Hong', 'Wang Jun']\n",
      "['Afifi Mahmoud', 'Hussain Khaled F.']\n",
      "['Liu Shuangjun', 'Yin Yu', 'Ostadabbas Sarah']\n",
      "['Dey Sourya', 'Huang Kuan-Wen', 'Beerel Peter A.', 'Chugg Keith M.']\n",
      "['Crowley Elliot J.', 'Gray Gavin', 'Storkey Amos']\n",
      "['Barnea Ehud', 'Ben-Shahar Ohad']\n",
      "['Kahani Reza', 'Talebpour Alireza', 'Mahmoudi-Aznaveh Ahmad']\n",
      "['Shen Li']\n",
      "['Li Xilai', 'Song Xi', 'Wu Tianfu']\n",
      "['van Amersfoort Joost', 'Shi Wenzhe', 'Acosta Alejandro', 'Massa Francisco', 'Totz Johannes', 'Wang Zehan', 'Caballero Jose']\n",
      "['Ghojogh Benyamin', 'Shouraki Saeed Bagheri', 'Mohammadzade Hoda', 'Iranmehr Ensieh']\n",
      "['Choi Joon Hee', 'Elgendy Omar', 'Chan Stanley H.']\n",
      "['Lathuilière Stéphane', 'Massé Benoit', 'Mesejo Pablo', 'Horaud Radu']\n",
      "['Fridman Lex', 'Brown Daniel E.', 'Glazer Michael', 'Angell William', 'Dodd Spencer', 'Jenik Benedikt', 'Terwilliger Jack', 'Patsekin Aleksandr', 'Kindelsberger Julia', 'Ding Li', 'Seaman Sean', 'Mehler Alea', 'Sipperley Andrew', 'Pettinato Anthony', 'Seppelt Bobbie', 'Angell Linda', 'Mehler Bruce', 'Reimer Bryan']\n",
      "['Çuğu İlke', 'Şener Eren', 'Akbaş Emre']\n",
      "['Ding Guodong', 'Khan Salman', 'Tang Zhenmin', 'Porikli Fatih']\n",
      "['Zeng Xiaohui', 'Liu Chenxi', 'Wang Yu-Siang', 'Qiu Weichao', 'Xie Lingxi', 'Tai Yu-Wing', 'Tang Chi Keung', 'Yuille Alan L.']\n",
      "['Tjeng Vincent', 'Xiao Kai', 'Tedrake Russ']\n",
      "['Fan Ruochen', 'Cheng Ming-Ming', 'Hou Qibin', 'Mu Tai-Jiang', 'Wang Jingdong', 'Hu Shi-Min']\n",
      "['Fan Ya Ju']\n",
      "['Jing Baoyu', 'Xie Pengtao', 'Xing Eric']\n",
      "['Liao Fangzhou', 'Liang Ming', 'Li Zhe', 'Hu Xiaolin', 'Song Sen']\n",
      "['Wu Zuxuan', 'Nagarajan Tushar', 'Kumar Abhishek', 'Rennie Steven', 'Davis Larry S.', 'Grauman Kristen', 'Feris Rogerio']\n",
      "['Wang Weiyue', 'Yu Ronald', 'Huang Qiangui', 'Neumann Ulrich']\n",
      "['Pei Wenjie', 'Dibeklioğlu Hamdi', 'Baltrušaitis Tadas', 'Tax David M. J.']\n",
      "['Wang Shanshan', 'Zhang Lei', 'Fu JingRu']\n",
      "['Stefanov Kalin', 'Beskow Jonas', 'Salvi Giampiero']\n",
      "['Xue Tianfan', 'Chen Baian', 'Wu Jiajun', 'Wei Donglai', 'Freeman William T.']\n",
      "['Lin Guangfeng', 'Chen Yajun', 'Zhao Fan']\n",
      "['Lukežič Alan', 'Zajc Luka Čehovin', 'Vojíř Tomáš', 'Matas Jiří', 'Kristan Matej']\n",
      "['Emeršič Žiga', 'Štepec Dejan', 'Štruc Vitomir', 'Peer Peter']\n",
      "['Wang Qiangchang', 'Guo Guodong', 'Nouyed Mohammad Iqbal']\n",
      "['Zeng Guodong', 'Zheng Guoyan']\n",
      "['Guo Ping', 'Duan Fuqing', 'Wang Pei', 'Yao Yao', 'Yin Qian', 'Xin Xin']\n",
      "['Yang Hongyu', 'Huang Di', 'Wang Yunhong', 'Jain Anil K.']\n",
      "['Xia Gui-Song', 'Bai Xiang', 'Ding Jian', 'Zhu Zhen', 'Belongie Serge', 'Luo Jiebo', 'Datcu Mihai', 'Pelillo Marcello', 'Zhang Liangpei']\n",
      "['Wang Mengjiao', 'Shu Zhixin', 'Cheng Shiyang', 'Panagakis Yannis', 'Samaras Dimitris', 'Zafeiriou Stefanos']\n",
      "['Duong Chi Nhan', 'Quach Kha Gia', 'Luu Khoa', 'Le T. Hoang Ngan', 'Savvides Marios', 'Bui Tien D.']\n",
      "['Bai Xiang', 'Yang Mingkun', 'Huang Tengteng', 'Dou Zhiyong', 'Yu Rui', 'Xu Yongchao']\n",
      "['Pontes Jhony K.', 'Kong Chen', 'Sridharan Sridha', 'Lucey Simon', 'Eriksson Anders', 'Fookes Clinton']\n",
      "['Henderson Paul', 'Subr Kartic', 'Ferrari Vittorio']\n",
      "['Lucas Thomas', 'Verbeek Jakob']\n",
      "['Banić Nikola', 'Koščević Karlo', 'Lončarić Sven']\n",
      "['Mureşan Horea', 'Oltean Mihai']\n",
      "['Salvador Amaia', 'Bellver Miriam', 'Campos Victor', 'Baradad Manel', 'Marques Ferran', 'Torres Jordi', 'Giro-i-Nieto Xavier']\n",
      "['Shen Zhiqiang', 'Shi Honghui', 'Yu Jiahui', 'Phan Hai', 'Feris Rogerio', 'Cao Liangliang', 'Liu Ding', 'Wang Xinchao', 'Huang Thomas', 'Savvides Marios']\n",
      "['Yoo Jaejun', 'Sabir Sohail', 'Heo Duchang', 'Kim Kee Hyun', 'Wahab Abdul', 'Choi Yoonseok', 'Lee Seul-I', 'Chae Eun Young', 'Kim Hak Hee', 'Bae Young Min', 'Choi Young-wook', 'Cho Seungryong', 'Ye Jong Chul']\n",
      "['Pesce Emanuele', 'Ypsilantis Petros-Pavlos', 'Withey Samuel', 'Bakewell Robert', 'Goh Vicky', 'Montana Giovanni']\n",
      "['Mueller Franziska', 'Bernard Florian', 'Sotnychenko Oleksandr', 'Mehta Dushyant', 'Sridhar Srinath', 'Casas Dan', 'Theobalt Christian']\n",
      "['Moudgil Abhinav', 'Gandhi Vineet']\n",
      "['Wang Jiayun', 'Virtue Patrick', 'Yu Stella X.']\n",
      "['Huang Zhiwu', 'Wu Jiqing', 'Van Gool Luc']\n",
      "['Li Yu', 'Wang Hu', 'Liu Juanjuan']\n",
      "['Manessi Franco', 'Rozza Alessandro', 'Bianco Simone', 'Napoletano Paolo', 'Schettini Raimondo']\n",
      "['Ding Sihao', 'Wallin Andreas']\n",
      "['Zhang Hanwang', 'Niu Yulei', 'Chang Shih-Fu']\n",
      "['Engstrom Logan', 'Tran Brandon', 'Tsipras Dimitris', 'Schmidt Ludwig', 'Madry Aleksander']\n",
      "['Aggarwal Hemant Kumar', 'Mani Merry P.', 'Jacob Mathews']\n",
      "['Anwar Saeed', 'Huynh Cong Phouc', 'Porikli Fatih']\n",
      "['Do Thanh-Toan', 'Hoang Tuan', 'Tan Dang-Khoa Le', 'Doan Anh-Dzung', 'Cheung Ngai-Man']\n",
      "['Agarap Abien Fred']\n",
      "['Bernal Jose', 'Kushibar Kaisar', 'Asfaw Daniel S.', 'Valverde Sergi', 'Oliver Arnau', 'Martí Robert', 'Lladó Xavier']\n",
      "['Poulos Jason', 'Valle Rafael']\n",
      "['Li Boyi', 'Ren Wenqi', 'Fu Dengpan', 'Tao Dacheng', 'Feng Dan', 'Zeng Wenjun', 'Wang Zhangyang']\n",
      "['Chen Hong-Yen', 'Su Chung-Yen']\n",
      "['Kolve Eric', 'Mottaghi Roozbeh', 'Han Winson', 'VanderBilt Eli', 'Weihs Luca', 'Herrasti Alvaro', 'Gordon Daniel', 'Zhu Yuke', 'Gupta Abhinav', 'Farhadi Ali']\n",
      "['Kim Jin-Hwa', 'Kitaev Nikita', 'Chen Xinlei', 'Rohrbach Marcus', 'Zhang Byoung-Tak', 'Tian Yuandong', 'Batra Dhruv', 'Parikh Devi']\n",
      "['Moschoglou Stylianos', 'Ververas Evangelos', 'Panagakis Yannis', 'Nicolaou Mihalis', 'Zafeiriou Stefanos']\n",
      "['Moore Brian E.', 'Gao Chen', 'Nadakuditi Raj Rao']\n",
      "['Oramas Jose', 'Wang Kaili', 'Tuytelaars Tinne']\n",
      "['Iwana Brian Kenji', 'Uchida Seiichi']\n",
      "['Leopold Henry A', 'Orchard Jeff', 'Zelek John S', 'Lakshminarayanan Vasudevan']\n",
      "['Wistuba Martin']\n",
      "['Liu Ding', 'Cheng Bowen', 'Wang Zhangyang', 'Zhang Haichao', 'Huang Thomas S.']\n",
      "['de la Torre Jordi', 'Valls Aida', 'Puig Domenec']\n",
      "['Li Heyi', 'Tian Yunke', 'Mueller Klaus', 'Chen Xin']\n",
      "['Choi Janghoon', 'Kwon Junseok', 'Lee Kyoung Mu']\n",
      "['Jalal Ajil', 'Ilyas Andrew', 'Daskalakis Constantinos', 'Dimakis Alexandros G.']\n",
      "['Zhao Hang', 'Torralba Antonio', 'Torresani Lorenzo', 'Yan Zhicheng']\n",
      "['Horiguchi Shota', 'Ikami Daiki', 'Aizawa Kiyoharu']\n",
      "['Nasr-Esfahani Ebrahim', 'Rafiei Shima', 'Jafari Mohammad H.', 'Karimi Nader', 'Wrobel James S.', 'Soroushmehr S. M. Reza', 'Samavi Shadrokh', 'Najarian Kayvan']\n",
      "['Ghose Shuvozit', 'Das Abhirup', 'Bhunia Ayan Kumar', 'Roy Partha Pratim']\n",
      "['Agarap Abien Fred']\n",
      "['Sharif Mahmood', 'Bhagavatula Sruti', 'Bauer Lujo', 'Reiter Michael K.']\n",
      "['Deng Liuyuan', 'Yang Ming', 'Li Hao', 'Li Tianyi', 'Hu Bing', 'Wang Chunxiang']\n",
      "['Kirillov Alexander', 'He Kaiming', 'Girshick Ross', 'Rother Carsten', 'Dollár Piotr']\n",
      "['Haft-Javaherian Mohammad', 'Fang Linjing', 'Muse Victorine', 'Schaffer Chris B.', 'Nishimura Nozomi', 'Sabuncu Mert R.']\n",
      "['Mazaheri Amir', 'Shah Mubarak']\n",
      "['Xiao Chaowei', 'Li Bo', 'Zhu Jun-Yan', 'He Warren', 'Liu Mingyan', 'Song Dawn']\n",
      "['Zhang Zichen', 'Tang Min', 'Cobzas Dana', 'Zonoobi Dornoosh', 'Jagersand Martin', 'Jaremko Jacob L.']\n",
      "['Tautkute Ivona', 'Trzcinski Tomasz', 'Skorupa Aleksander', 'Brocki Lukasz', 'Marasek Krzysztof']\n",
      "['Monfort Mathew', 'Andonian Alex', 'Zhou Bolei', 'Ramakrishnan Kandan', 'Bargal Sarah Adel', 'Yan Tom', 'Brown Lisa', 'Fan Quanfu', 'Gutfruend Dan', 'Vondrick Carl', 'Oliva Aude']\n",
      "['Hussein Sarfaraz', 'Kandel Pujan', 'Bolan Candice W.', 'Wallace Michael B.', 'Bagci Ulas']\n",
      "['Mentzer Fabian', 'Agustsson Eirikur', 'Tschannen Michael', 'Timofte Radu', 'Van Gool Luc']\n",
      "['Sultani Waqas', 'Chen Chen', 'Shah Mubarak']\n",
      "['Liu Bo', 'Wang Xudong', 'Dixit Mandar', 'Kwitt Roland', 'Vasconcelos Nuno']\n",
      "['Sandler Mark', 'Howard Andrew', 'Zhu Menglong', 'Zhmoginov Andrey', 'Chen Liang-Chieh']\n",
      "['Xu Nayun', 'Tan Bowen', 'Kong Bingyu']\n",
      "['Perera Pramuditha', 'Patel Vishal M.']\n",
      "['Zhu Ligeng', 'Deng Ruizhi', 'Maire Michael', 'Deng Zhiwei', 'Mori Greg', 'Tan Ping']\n",
      "['Liu Qiao', 'He Zhenyu', 'Li Xin', 'Zheng Yuan']\n",
      "['Liu Jingxin', 'Xu Bolei', 'Zheng Chi', 'Gong Yuanhao', 'Garibaldi Jon', 'Soria Daniele', 'Green Andew', 'Ellis Ian O.', 'Zou Wenbin', 'Qiu Guoping']\n",
      "['Bernal Jose', 'Kushibar Kaisar', 'Cabezas Mariano', 'Valverde Sergi', 'Oliver Arnau', 'Lladó Xavier']\n",
      "['Zhao Lijun', 'Bai Huihui', 'Wang Anhong', 'Zhao Yao']\n",
      "['Schwartz Eli', 'Giryes Raja', 'Bronstein Alex M.']\n",
      "['Fu Chichen', 'Lee Soonam', 'Ho David Joon', 'Han Shuo', 'Salama Paul', 'Dunn Kenneth W.', 'Delp Edward J.']\n",
      "['Deng Jiankang', 'Guo Jia', 'Xue Niannan', 'Zafeiriou Stefanos']\n",
      "['Wang Yue', 'Sun Yongbin', 'Liu Ziwei', 'Sarma Sanjay E.', 'Bronstein Michael M.', 'Solomon Justin M.']\n",
      "['Gao Yuan', 'Ma Jiayi', 'Zhao Mingbo', 'Liu Wei', 'Yuille Alan L.']\n",
      "['Golodetz Stuart', 'Cavallari Tommaso', 'Lord Nicholas A', 'Prisacariu Victor A', 'Murray David W', 'Torr Philip H S']\n",
      "['Startsev Mikhail', 'Dorr Michael']\n",
      "['Fan Yifei', 'Yezzi Anthony']\n",
      "['Carletti Marco', 'Godi Marco', 'Aghaei Maedeh', 'Giuliari Francesco', 'Cristani Marco']\n",
      "['Saragadam Vishwanath', 'Sankaranarayanan Aswin C.']\n",
      "['Shabani Mohammad Amin', 'Samadfam Laleh', 'Sadeghi Mohammad Amin']\n",
      "['Tang Peng', 'Wang Chunyu', 'Wang Xinggang', 'Liu Wenyu', 'Zeng Wenjun', 'Wang Jingdong']\n",
      "['Vargas-Muñoz John E.', 'Chowdhury Ananda S.', 'Alexandre Eduardo B.', 'Galvão Felipe L.', 'Miranda Paulo A. Vechiatto', 'Falcão Alexandre X.']\n",
      "['Nabati Ofir', 'Mendlovic David', 'Giryes Raja']\n",
      "['Guo Alan J. X.', 'Zhu Fei']\n",
      "['Shi Haichao', 'Zhang Xiao-Yu']\n",
      "['Fan Heng', 'Ling Haibin']\n",
      "['Zhou Bo', 'Guo Qiang', 'Zeng Xiangrui', 'Xu Min']\n",
      "['Zhang Quanshi', 'Yang Yu', 'Ma Haotian', 'Wu Ying Nian']\n",
      "['Afifi Mahmoud']\n",
      "['Osman Ahmed', 'Samek Wojciech']\n",
      "['Zhang Jingwei', 'Tai Lei', 'Yun Peng', 'Xiong Yufeng', 'Liu Ming', 'Boedecker Joschka', 'Burgard Wolfram']\n",
      "['Malmberg Filip', 'Strand Robin']\n",
      "['Escalante Hugo Jair', 'Kaya Heysem', 'Salah Albert Ali', 'Escalera Sergio', 'Gucluturk Yagmur', 'Guclu Umut', 'Baro Xavier', 'Guyon Isabelle', 'Junior Julio Jacques', 'Madadi Meysam', 'Ayache Stephane', 'Viegas Evelyne', 'Gurpinar Furkan', 'Wicaksana Achmadnoer Sukma', 'Liem Cynthia C. S.', 'van Gerven Marcel A. J.', 'van Lier Rob']\n",
      "['Yang Feng', 'Xia Gui-Song', 'Dai Dengxin', 'Zhang Liangpei']\n",
      "['Fan Zhun', 'Li Zhongxing', 'Qiu Benzhang', 'Li Wenji', 'Hu Jianye', 'Josephraj Alex Noel', 'Chen Heping']\n",
      "['Rudovic Ognjen', 'Lee Jaeryoung', 'Dai Miles', 'Schuller Bjorn', 'Picard Rosalind']\n",
      "['Simon-Gabriel Carl-Johann', 'Ollivier Yann', 'Bottou Léon', 'Schölkopf Bernhard', 'Lopez-Paz David']\n",
      "['Engelmann Francis', 'Kontogianni Theodora', 'Hermans Alexander', 'Leibe Bastian']\n",
      "['Lee Soonam', 'Kim Daekeun']\n",
      "['Real Esteban', 'Aggarwal Alok', 'Huang Yanping', 'Le Quoc V']\n",
      "['Harzig Philipp', 'Brehm Stephan', 'Lienhart Rainer', 'Kaiser Carolin', 'Schallner René']\n",
      "['Hu Yang', 'Wen Guihua', 'Liao Huiqiang', 'Wang Changjun', 'Dai Dan', 'Yu Zhiwen']\n",
      "['Choi Yoojin', 'El-Khamy Mostafa', 'Lee Jungwon']\n",
      "['Balakrishnan Guha', 'Zhao Amy', 'Sabuncu Mert R.', 'Guttag John', 'Dalca Adrian V.']\n",
      "['Sengupta Abhronil', 'Ye Yuting', 'Wang Robert', 'Liu Chiao', 'Roy Kaushik']\n",
      "['Do Thanh-Toan', 'Hoang Tuan', 'Tan Dang-Khoa Le', 'Le Huu', 'Nguyen Tam V.', 'Cheung Ngai-Man']\n",
      "['Peng Yuxin', 'Zhang Jian', 'Ye Zhaoda']\n",
      "['Grüning Tobias', 'Leifert Gundram', 'Strauß Tobias', 'Michael Johannes', 'Labahn Roger']\n",
      "['Gao Tingran', 'Kovalsky Shahar Z.', 'Daubechies Ingrid']\n",
      "['He Yihui', 'Lin Ji', 'Liu Zhijian', 'Wang Hanrui', 'Li Li-Jia', 'Han Song']\n",
      "['Sansone Emanuele', 'Ali Hafiz Tiomoko', 'Jiacheng Sun']\n",
      "['Minetto Rodrigo', 'Segundo Mauricio Pamplona', 'Sarkar Sudeep']\n",
      "['Lee Soonam', 'Fu Chichen', 'Salama Paul', 'Dunn Kenneth W.', 'Delp Edward J.']\n",
      "['Ding Yukun', 'Liu Jinglan', 'Xiong Jinjun', 'Shi Yiyu']\n",
      "['Schirrmacher Franziska', 'Köhler Thomas', 'Lindenberger Tobias', 'Husvogt Lennart', 'Endres Jürgen', 'Fujimoto James G.', 'Hornegger Joachim', 'Dörfler Arnd', 'Hoelter Philip', 'Maier Andreas K.']\n",
      "['Giancola Silvio', 'Schneider Jens', 'Wonka Peter', 'Ghanem Bernard S.']\n",
      "['Asim Muhammad', 'Shamshad Fahad', 'Ahmed Ali']\n",
      "['Tang Fan', 'Dong Weiming', 'Meng Yiping', 'Ma Chongyang', 'Wu Fuzhang', 'Li Xinrui', 'Lee Tong-Yee']\n",
      "['Liu Li', 'Chen Jie', 'Zhao Guoying', 'Fieguth Paul', 'Chen Xilin', 'Pietikäinen Matti']\n",
      "['Liao Tianli', 'Li Nan']\n",
      "['Hendrycks Dan', 'Mazeika Mantas', 'Wilson Duncan', 'Gimpel Kevin']\n",
      "['Chun Il Yong', 'Fessler Jeffrey A.']\n",
      "['Shan Hongming', 'Zhang Yi', 'Yang Qingsong', 'Kruger Uwe', 'Kalra Mannudeep K.', 'Sun Ling', 'Cong Wenxiang', 'Wang Ge']\n",
      "['Roy Deboleena', 'Panda Priyadarshini', 'Roy Kaushik']\n",
      "['Krishnan Praveen', 'Jawahar C. V.']\n",
      "['Chu Lingyang', 'Hu Xia', 'Hu Juhua', 'Wang Lanjun', 'Pei Jian']\n",
      "['Chin Tat-Jun', 'Cai Zhipeng', 'Neumann Frank']\n",
      "['Hoang Tuan', 'Do Thanh-Toan', 'Le Huu', 'Le-Tan Dang-Khoa', 'Cheung Ngai-Man']\n",
      "['Moosavi-Dezfooli Seyed-Mohsen', 'Shrivastava Ashish', 'Tuzel Oncel']\n",
      "['Rahnama Oscar', 'Frost Duncan', 'Miksik Ondrej', 'Torr Philip H. S.']\n",
      "['Lu Yao', 'Valmadre Jack', 'Wang Heng', 'Kannala Juho', 'Harandi Mehrtash', 'Torr Philip H. S.']\n",
      "['Liu Zhilei', 'Song Guoxian', 'Cai Jianfei', 'Cham Tat-Jen', 'Zhang Juyong']\n",
      "['Abdolali Maryam', 'Gillis Nicolas', 'Rahmati Mohammad']\n",
      "['Monteiro João', 'Albuquerque Isabela', 'Akhtar Zahid', 'Falk Tiago H.']\n",
      "['Rafiei Shima', 'Karimi Nader', 'Mirmahboub Behzad', 'Soroushmehr S. M. Reza', 'Felfelian Banafsheh', 'Samavi Shadrokh', 'Najarian Kayvan']\n",
      "['Zhang Pingping', 'Liu Wei', 'Wang Dong', 'Lei Yinjie', 'Wang Hongyu', 'Shen Chunhua', 'Lu Huchuan']\n",
      "['Elsayed Gamaleldin F.', 'Shankar Shreya', 'Cheung Brian', 'Papernot Nicolas', 'Kurakin Alex', 'Goodfellow Ian', 'Sohl-Dickstein Jascha']\n",
      "['Bhunia Ayan Kumar', 'Mukherjee Subham', 'Sain Aneeshan', 'Bhunia Ankan Kumar', 'Roy Partha Pratim', 'Pal Umapada']\n",
      "['Gewali Utsav B.', 'Monteiro Sildomar T.', 'Saber Eli']\n",
      "['Silva Michel Melo', 'Ramos Washington Luis Souza', 'Ferreira Joao Klock', 'Chamone Felipe Cadar', 'Campos Mario Fernando Montenegro', 'Nascimento Erickson Rangel']\n",
      "['Rangesh Akshay', 'Trivedi Mohan M.']\n",
      "['Zhu Mai', 'Chang Bo', 'Fu Chong']\n",
      "['Zheng Xinye', 'Ye Jianbo', 'Chen Yukun', 'Wistar Stephen', 'Li Jia', 'Piedra-Fernández Jose A.', 'Steinberg Michael A.', 'Wang James Z.']\n",
      "['Milioto Andres', 'Stachniss Cyrill']\n",
      "['Rashwan Hatem A.', 'Chambon Sylvie', 'Gurdjos Pierre', 'Morin Géraldine', 'Charvillat Vincent']\n",
      "['Zhang Zizhao', 'Yang Lin', 'Zheng Yefeng']\n",
      "['Li Yan', 'Zhang Junge', 'Huang Kaiqi', 'Zhang Jianguo']\n",
      "['Liu Dong', 'Sun Ke', 'Wang Zhangyang', 'Liu Runsheng', 'Zha Zheng-Jun']\n",
      "['Chen Xuhao']\n",
      "['Tran Luan', 'Sohn Kihyuk', 'Yu Xiang', 'Liu Xiaoming', 'Chandraker Manmohan']\n",
      "['Yao Chengfei', 'Zou Jie', 'Luo Yanan', 'Li Tao', 'Bai Gang']\n",
      "['Amodio Matthew', 'Krishnaswamy Smita']\n",
      "['Rogez Gregory', 'Weinzaepfel Philippe', 'Schmid Cordelia']\n",
      "['Lorimer Tom', 'Kanders Karlis', 'Stoop Ruedi']\n",
      "['Sudakov Oleg', 'Burnaev Evgeny', 'Koroteev Dmitry']\n",
      "['Li Guohao', 'Müller Matthias', 'Casser Vincent', 'Smith Neil', 'Michels Dominik L.', 'Ghanem Bernard']\n",
      "['Shvets Alexey', 'Rakhlin Alexander', 'Kalinin Alexandr A.', 'Iglovikov Vladimir']\n",
      "['Frid-Adar Maayan', 'Diamant Idit', 'Klang Eyal', 'Amitai Michal', 'Goldberger Jacob', 'Greenspan Hayit']\n",
      "['Soltanayev Shakarim', 'Chun Se Young']\n",
      "['Marnerides Demetris', 'Bashford-Rogers Thomas', 'Hatchett Jonathan', 'Debattista Kurt']\n",
      "['Baltruschat Ivo M.', 'Nickisch Hannes', 'Grass Michael', 'Knopp Tobias', 'Saalbach Axel']\n",
      "['Mou Lichao', 'Bruzzone Lorenzo', 'Zhu Xiao Xiang']\n",
      "['Zhang Zheng', 'Zou Qin', 'Lin Yuewei', 'Chen Long', 'Wang Song']\n",
      "['Acuna Raul', 'Willert Volker']\n",
      "['Naseer Muzammal', 'Khan Salman H', 'Porikli Fatih']\n",
      "['Cong Runmin', 'Lei Jianjun', 'Fu Huazhu', 'Cheng Ming-Ming', 'Lin Weisi', 'Huang Qingming']\n",
      "['Yang Xiaohui', 'Wu Wenming', 'Chen Yunmei', 'Li Xianqi', 'Zhang Juan', 'Long Dan', 'Yang Lijun']\n",
      "['Ong Frank', 'Milanfar Peyman', 'Getreuer Pascal']\n",
      "['Malof Jordan M.', 'Reichman Daniel', 'Karem Andrew', 'Frigui Hichem', 'Ho Dominic K. C.', 'Wilson Joseph N.', 'Lee Wen-Hsiung', 'Cummings William', 'Collins Leslie M.']\n",
      "['Senocak Arda', 'Oh Tae-Hyun', 'Kim Junsik', 'Yang Ming-Hsuan', 'Kweon In So']\n",
      "['Guo Song', 'Wang Kai', 'Kang Hong', 'Zhang Yujun', 'Gao Yingqi', 'Li Tao']\n",
      "['Mahdizadehaghdam Shahin', 'Panahi Ashkan', 'Krim Hamid', 'Dai Liyi']\n",
      "['Du Xiaoxiao', 'Zare Alina']\n",
      "['Voets Mike', 'Møllersen Kajsa', 'Bongo Lars Ailo']\n",
      "['Khan Rayyan Ahmad', 'Amjad Rana Ali', 'Kleinsteuber Martin']\n",
      "['Ammirato Phil', 'Fu Cheng-Yang', 'Shvets Mykhailo', 'Kosecka Jana', 'Berg Alexander C.']\n",
      "['Baby Stefanie Anna', 'Vinod Bimal', 'Chinni Chaitanya', 'Mitra Kaushik']\n",
      "['Yang Ren', 'Xu Mai', 'Wang Zulin', 'Li Tianyi']\n",
      "['Sun Youcheng', 'Huang Xiaowei', 'Kroening Daniel', 'Sharp James', 'Hill Matthew', 'Ashmore Rob']\n",
      "['Li Shuai', 'Li Wanqing', 'Cook Chris', 'Zhu Ce', 'Gao Yanbo']\n",
      "['Yi Kai', 'Jian Zhiqiang', 'Chen Shitao', 'Zheng Nanning']\n"
     ]
    }
   ],
   "source": [
    "import networkx as nx \n",
    "# 创建无向图\n",
    "G = nx.Graph()\n",
    "\n",
    "# 只用五篇论文进行构建\n",
    "for row in data.iloc[:500].itertuples():\n",
    "    authors = row[2]\n",
    "    authors = [' '.join(x[:-1]) for x in authors]\n",
    "    print(authors)\n",
    "    \n",
    "    # 第一个作者 与 其他作者链接\n",
    "    for author in authors[1:]:\n",
    "        G.add_edge(authors[0],author) #　添加节点２，３并链接２３节点"
   ]
  },
  {
   "cell_type": "code",
   "execution_count": 6,
   "metadata": {
    "execution": {
     "iopub.execute_input": "2021-01-24T08:31:01.127955Z",
     "iopub.status.busy": "2021-01-24T08:31:01.126944Z",
     "iopub.status.idle": "2021-01-24T08:31:01.133782Z",
     "shell.execute_reply": "2021-01-24T08:31:01.132873Z"
    },
    "papermill": {
     "duration": 0.027329,
     "end_time": "2021-01-24T08:31:01.133968",
     "exception": false,
     "start_time": "2021-01-24T08:31:01.106639",
     "status": "completed"
    },
    "tags": []
   },
   "outputs": [
    {
     "data": {
      "text/plain": [
       "['Yi Kai', 'Jian Zhiqiang', 'Chen Shitao', 'Zheng Nanning']"
      ]
     },
     "execution_count": 6,
     "metadata": {},
     "output_type": "execute_result"
    }
   ],
   "source": [
    "authors"
   ]
  },
  {
   "cell_type": "code",
   "execution_count": 7,
   "metadata": {
    "ExecuteTime": {
     "end_time": "2021-01-02T08:06:48.127213Z",
     "start_time": "2021-01-02T08:06:47.980587Z"
    },
    "execution": {
     "iopub.execute_input": "2021-01-24T08:31:01.180124Z",
     "iopub.status.busy": "2021-01-24T08:31:01.179461Z",
     "iopub.status.idle": "2021-01-24T08:31:24.800011Z",
     "shell.execute_reply": "2021-01-24T08:31:24.800581Z"
    },
    "papermill": {
     "duration": 23.64308,
     "end_time": "2021-01-24T08:31:24.800745",
     "exception": false,
     "start_time": "2021-01-24T08:31:01.157665",
     "status": "completed"
    },
    "tags": []
   },
   "outputs": [
    {
     "data": {
      "image/png": "[encoded data removed]",
      "text/plain": [
       "<Figure size 432x288 with 1 Axes>"
      ]
     },
     "metadata": {},
     "output_type": "display_data"
    }
   ],
   "source": [
    "# 将作者关系图进行绘制：\n",
    "nx.draw(G, with_labels=True)"
   ]
  },
  {
   "cell_type": "code",
   "execution_count": 8,
   "metadata": {
    "ExecuteTime": {
     "end_time": "2021-01-02T08:07:24.184788Z",
     "start_time": "2021-01-02T08:07:21.813522Z"
    },
    "execution": {
     "iopub.execute_input": "2021-01-24T08:31:24.843831Z",
     "iopub.status.busy": "2021-01-24T08:31:24.842898Z",
     "iopub.status.idle": "2021-01-24T08:31:24.846834Z",
     "shell.execute_reply": "2021-01-24T08:31:24.847394Z"
    },
    "papermill": {
     "duration": 0.027645,
     "end_time": "2021-01-24T08:31:24.847541",
     "exception": false,
     "start_time": "2021-01-24T08:31:24.819896",
     "status": "completed"
    },
    "tags": []
   },
   "outputs": [
    {
     "name": "stdout",
     "output_type": "stream",
     "text": [
      "No path\n"
     ]
    }
   ],
   "source": [
    "try:\n",
    "    print(nx.dijkstra_path(G, 'Balázs C.', 'Ziambaras Eleni'))\n",
    "except:\n",
    "    print('No path')"
   ]
  },
  {
   "cell_type": "markdown",
   "metadata": {
    "papermill": {
     "duration": 0.018397,
     "end_time": "2021-01-24T08:31:24.884468",
     "exception": false,
     "start_time": "2021-01-24T08:31:24.866071",
     "status": "completed"
    },
    "tags": []
   },
   "source": [
    "如果我们500片论文构建图，则可以得到更加完整作者关系，并选择最大联通子图进行绘制，折线图为子图节点度值。"
   ]
  },
  {
   "cell_type": "code",
   "execution_count": 9,
   "metadata": {
    "ExecuteTime": {
     "end_time": "2021-01-02T08:14:00.984493Z",
     "start_time": "2021-01-02T08:14:00.621316Z"
    },
    "execution": {
     "iopub.execute_input": "2021-01-24T08:31:24.940294Z",
     "iopub.status.busy": "2021-01-24T08:31:24.939019Z",
     "iopub.status.idle": "2021-01-24T08:31:25.853836Z",
     "shell.execute_reply": "2021-01-24T08:31:25.853101Z"
    },
    "papermill": {
     "duration": 0.951409,
     "end_time": "2021-01-24T08:31:25.854057",
     "exception": false,
     "start_time": "2021-01-24T08:31:24.902648",
     "status": "completed"
    },
    "tags": []
   },
   "outputs": [
    {
     "data": {
      "image/png": "[encoded data removed]",
      "text/plain": [
       "<Figure size 432x288 with 2 Axes>"
      ]
     },
     "metadata": {
      "needs_background": "light"
     },
     "output_type": "display_data"
    }
   ],
   "source": [
    "degree_sequence = sorted([d for n, d in G.degree()], reverse=True)\n",
    "dmax = max(degree_sequence)\n",
    "\n",
    "plt.loglog(degree_sequence, \"b-\", marker=\"o\")\n",
    "plt.title(\"Degree rank plot\")\n",
    "plt.ylabel(\"degree\")\n",
    "plt.xlabel(\"rank\")\n",
    "\n",
    "# draw graph in inset\n",
    "plt.axes([0.45, 0.45, 0.45, 0.45])\n",
    "Gcc = G.subgraph(sorted(nx.connected_components(G), key=len, reverse=True)[0])\n",
    "\n",
    "pos = nx.spring_layout(Gcc)\n",
    "plt.axis(\"off\")\n",
    "nx.draw_networkx_nodes(Gcc, pos, node_size=20)\n",
    "nx.draw_networkx_edges(Gcc, pos, alpha=0.4)\n",
    "plt.show()"
   ]
  }
 ],
 "metadata": {
  "kernelspec": {
   "display_name": "Python 3",
   "language": "python",
   "name": "python3"
  },
  "language_info": {
   "codemirror_mode": {
    "name": "ipython",
    "version": 3
   },
   "file_extension": ".py",
   "mimetype": "text/x-python",
   "name": "python",
   "nbconvert_exporter": "python",
   "pygments_lexer": "ipython3",
   "version": "3.7.6"
  },
  "papermill": {
   "duration": 122.110647,
   "end_time": "2021-01-24T08:31:26.924015",
   "environment_variables": {},
   "exception": null,
   "input_path": "__notebook__.ipynb",
   "output_path": "__notebook__.ipynb",
   "parameters": {},
   "start_time": "2021-01-24T08:29:24.813368",
   "version": "2.1.0"
  }
 },
 "nbformat": 4,
 "nbformat_minor": 4
}
